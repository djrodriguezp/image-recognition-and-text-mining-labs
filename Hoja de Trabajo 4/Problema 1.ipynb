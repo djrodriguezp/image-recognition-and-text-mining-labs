{
 "cells": [
  {
   "cell_type": "markdown",
   "metadata": {},
   "source": [
    "# Problema 1"
   ]
  },
  {
   "cell_type": "code",
   "execution_count": 1,
   "metadata": {},
   "outputs": [],
   "source": [
    "from collections import Counter\n",
    "from IPython.display import display\n",
    "from wordcloud import WordCloud\n",
    "import matplotlib.pyplot as plt\n",
    "import numpy as np\n",
    "import pandas as pd\n",
    "import spacy\n",
    "import nltk\n",
    "import re"
   ]
  },
  {
   "cell_type": "code",
   "execution_count": 2,
   "metadata": {},
   "outputs": [
    {
     "data": {
      "text/html": [
       "<div>\n",
       "<style scoped>\n",
       "    .dataframe tbody tr th:only-of-type {\n",
       "        vertical-align: middle;\n",
       "    }\n",
       "\n",
       "    .dataframe tbody tr th {\n",
       "        vertical-align: top;\n",
       "    }\n",
       "\n",
       "    .dataframe thead th {\n",
       "        text-align: right;\n",
       "    }\n",
       "</style>\n",
       "<table border=\"1\" class=\"dataframe\">\n",
       "  <thead>\n",
       "    <tr style=\"text-align: right;\">\n",
       "      <th></th>\n",
       "      <th>c1</th>\n",
       "      <th>id</th>\n",
       "      <th>datetime</th>\n",
       "      <th>query</th>\n",
       "      <th>username</th>\n",
       "      <th>tweet</th>\n",
       "    </tr>\n",
       "  </thead>\n",
       "  <tbody>\n",
       "    <tr>\n",
       "      <th>0</th>\n",
       "      <td>0</td>\n",
       "      <td>1467810369</td>\n",
       "      <td>Mon Apr 06 22:19:45 PDT 2009</td>\n",
       "      <td>NO_QUERY</td>\n",
       "      <td>_TheSpecialOne_</td>\n",
       "      <td>@switchfoot http://twitpic.com/2y1zl - Awww, t...</td>\n",
       "    </tr>\n",
       "    <tr>\n",
       "      <th>1</th>\n",
       "      <td>0</td>\n",
       "      <td>1467810672</td>\n",
       "      <td>Mon Apr 06 22:19:49 PDT 2009</td>\n",
       "      <td>NO_QUERY</td>\n",
       "      <td>scotthamilton</td>\n",
       "      <td>is upset that he can't update his Facebook by ...</td>\n",
       "    </tr>\n",
       "    <tr>\n",
       "      <th>2</th>\n",
       "      <td>0</td>\n",
       "      <td>1467810917</td>\n",
       "      <td>Mon Apr 06 22:19:53 PDT 2009</td>\n",
       "      <td>NO_QUERY</td>\n",
       "      <td>mattycus</td>\n",
       "      <td>@Kenichan I dived many times for the ball. Man...</td>\n",
       "    </tr>\n",
       "    <tr>\n",
       "      <th>3</th>\n",
       "      <td>0</td>\n",
       "      <td>1467811184</td>\n",
       "      <td>Mon Apr 06 22:19:57 PDT 2009</td>\n",
       "      <td>NO_QUERY</td>\n",
       "      <td>ElleCTF</td>\n",
       "      <td>my whole body feels itchy and like its on fire</td>\n",
       "    </tr>\n",
       "    <tr>\n",
       "      <th>4</th>\n",
       "      <td>0</td>\n",
       "      <td>1467811193</td>\n",
       "      <td>Mon Apr 06 22:19:57 PDT 2009</td>\n",
       "      <td>NO_QUERY</td>\n",
       "      <td>Karoli</td>\n",
       "      <td>@nationwideclass no, it's not behaving at all....</td>\n",
       "    </tr>\n",
       "  </tbody>\n",
       "</table>\n",
       "</div>"
      ],
      "text/plain": [
       "  c1          id                      datetime     query         username  \\\n",
       "0  0  1467810369  Mon Apr 06 22:19:45 PDT 2009  NO_QUERY  _TheSpecialOne_   \n",
       "1  0  1467810672  Mon Apr 06 22:19:49 PDT 2009  NO_QUERY    scotthamilton   \n",
       "2  0  1467810917  Mon Apr 06 22:19:53 PDT 2009  NO_QUERY         mattycus   \n",
       "3  0  1467811184  Mon Apr 06 22:19:57 PDT 2009  NO_QUERY          ElleCTF   \n",
       "4  0  1467811193  Mon Apr 06 22:19:57 PDT 2009  NO_QUERY           Karoli   \n",
       "\n",
       "                                               tweet  \n",
       "0  @switchfoot http://twitpic.com/2y1zl - Awww, t...  \n",
       "1  is upset that he can't update his Facebook by ...  \n",
       "2  @Kenichan I dived many times for the ball. Man...  \n",
       "3    my whole body feels itchy and like its on fire   \n",
       "4  @nationwideclass no, it's not behaving at all....  "
      ]
     },
     "execution_count": 2,
     "metadata": {},
     "output_type": "execute_result"
    }
   ],
   "source": [
    "tw_source = pd.read_csv(\"tw_source.csv\", header=None, encoding = \"ISO-8859-1\")\n",
    "\n",
    "tw_df = pd.DataFrame(tw_source.values, columns=[\"c1\",\"id\",\"datetime\",\"query\",\"username\",\"tweet\"])\n",
    "tw_df.head()"
   ]
  },
  {
   "cell_type": "markdown",
   "metadata": {},
   "source": [
    "### Encontrando usuarios mencionados en los Tweets"
   ]
  },
  {
   "cell_type": "code",
   "execution_count": 3,
   "metadata": {},
   "outputs": [],
   "source": [
    "users = list()\n",
    "for tweet in tw_df[\"tweet\"]:\n",
    "    pattern = \"@(\\w{1,15})\"\n",
    "    users_match = re.findall(pattern,tweet)\n",
    "    for user in users_match:\n",
    "        users.append(user)"
   ]
  },
  {
   "cell_type": "markdown",
   "metadata": {},
   "source": [
    "### 3 usuarios más populares"
   ]
  },
  {
   "cell_type": "code",
   "execution_count": 4,
   "metadata": {},
   "outputs": [
    {
     "data": {
      "text/html": [
       "<div>\n",
       "<style scoped>\n",
       "    .dataframe tbody tr th:only-of-type {\n",
       "        vertical-align: middle;\n",
       "    }\n",
       "\n",
       "    .dataframe tbody tr th {\n",
       "        vertical-align: top;\n",
       "    }\n",
       "\n",
       "    .dataframe thead th {\n",
       "        text-align: right;\n",
       "    }\n",
       "</style>\n",
       "<table border=\"1\" class=\"dataframe\">\n",
       "  <thead>\n",
       "    <tr style=\"text-align: right;\">\n",
       "      <th></th>\n",
       "      <th>Usuario</th>\n",
       "      <th>Menciones</th>\n",
       "    </tr>\n",
       "  </thead>\n",
       "  <tbody>\n",
       "    <tr>\n",
       "      <th>0</th>\n",
       "      <td>mileycyrus</td>\n",
       "      <td>4500</td>\n",
       "    </tr>\n",
       "    <tr>\n",
       "      <th>1</th>\n",
       "      <td>tommcfly</td>\n",
       "      <td>3887</td>\n",
       "    </tr>\n",
       "    <tr>\n",
       "      <th>2</th>\n",
       "      <td>ddlovato</td>\n",
       "      <td>3467</td>\n",
       "    </tr>\n",
       "  </tbody>\n",
       "</table>\n",
       "</div>"
      ],
      "text/plain": [
       "      Usuario  Menciones\n",
       "0  mileycyrus       4500\n",
       "1    tommcfly       3887\n",
       "2    ddlovato       3467"
      ]
     },
     "execution_count": 4,
     "metadata": {},
     "output_type": "execute_result"
    }
   ],
   "source": [
    "popular_users_df = pd.DataFrame(Counter(users).most_common(3), columns=[\"Usuario\",\"Menciones\"] )\n",
    "popular_users_df"
   ]
  },
  {
   "cell_type": "markdown",
   "metadata": {},
   "source": [
    "### Corpus de Tweets\n",
    "\n",
    "Para crear los corpus de los tweets se tomará el primer match donde se mencione a los usuarios populares."
   ]
  },
  {
   "cell_type": "code",
   "execution_count": 5,
   "metadata": {},
   "outputs": [
    {
     "data": {
      "text/html": [
       "<div>\n",
       "<style scoped>\n",
       "    .dataframe tbody tr th:only-of-type {\n",
       "        vertical-align: middle;\n",
       "    }\n",
       "\n",
       "    .dataframe tbody tr th {\n",
       "        vertical-align: top;\n",
       "    }\n",
       "\n",
       "    .dataframe thead th {\n",
       "        text-align: right;\n",
       "    }\n",
       "</style>\n",
       "<table border=\"1\" class=\"dataframe\">\n",
       "  <thead>\n",
       "    <tr style=\"text-align: right;\">\n",
       "      <th></th>\n",
       "      <th>Content</th>\n",
       "      <th>ID</th>\n",
       "      <th>Timestamp</th>\n",
       "      <th>Tweet Length</th>\n",
       "    </tr>\n",
       "  </thead>\n",
       "  <tbody>\n",
       "    <tr>\n",
       "      <th>0</th>\n",
       "      <td>@mileycyrus hahaha dont be like that one time ...</td>\n",
       "      <td>1468063101</td>\n",
       "      <td>Mon Apr 06 23:30:57 PDT 2009</td>\n",
       "      <td>107</td>\n",
       "    </tr>\n",
       "    <tr>\n",
       "      <th>1</th>\n",
       "      <td>@mileycyrus i have the same problem, but it's ...</td>\n",
       "      <td>1468286517</td>\n",
       "      <td>Tue Apr 07 00:45:20 PDT 2009</td>\n",
       "      <td>137</td>\n",
       "    </tr>\n",
       "    <tr>\n",
       "      <th>2</th>\n",
       "      <td>@mileycyrus I guess counting sheep didn't work...</td>\n",
       "      <td>1468297110</td>\n",
       "      <td>Tue Apr 07 00:49:07 PDT 2009</td>\n",
       "      <td>72</td>\n",
       "    </tr>\n",
       "    <tr>\n",
       "      <th>3</th>\n",
       "      <td>@mileycyrus I would too if it meant spending a...</td>\n",
       "      <td>1468298918</td>\n",
       "      <td>Tue Apr 07 00:49:44 PDT 2009</td>\n",
       "      <td>100</td>\n",
       "    </tr>\n",
       "    <tr>\n",
       "      <th>4</th>\n",
       "      <td>@mileycyrus AWWW u seriously have the cutest d...</td>\n",
       "      <td>1468318249</td>\n",
       "      <td>Tue Apr 07 00:56:41 PDT 2009</td>\n",
       "      <td>112</td>\n",
       "    </tr>\n",
       "    <tr>\n",
       "      <th>5</th>\n",
       "      <td>@mileycyrus http://twitpic.com/2xszg - Napping...</td>\n",
       "      <td>1468333186</td>\n",
       "      <td>Tue Apr 07 01:01:52 PDT 2009</td>\n",
       "      <td>116</td>\n",
       "    </tr>\n",
       "    <tr>\n",
       "      <th>6</th>\n",
       "      <td>@mileycyrus where did you find that quote... n...</td>\n",
       "      <td>1468340955</td>\n",
       "      <td>Tue Apr 07 01:04:40 PDT 2009</td>\n",
       "      <td>129</td>\n",
       "    </tr>\n",
       "    <tr>\n",
       "      <th>7</th>\n",
       "      <td>@mileycyrus http://twitpic.com/2y606 - I want ...</td>\n",
       "      <td>1468382935</td>\n",
       "      <td>Tue Apr 07 01:19:59 PDT 2009</td>\n",
       "      <td>75</td>\n",
       "    </tr>\n",
       "    <tr>\n",
       "      <th>8</th>\n",
       "      <td>@mileycyrus ouch mine too</td>\n",
       "      <td>1468689241</td>\n",
       "      <td>Tue Apr 07 03:10:51 PDT 2009</td>\n",
       "      <td>26</td>\n",
       "    </tr>\n",
       "    <tr>\n",
       "      <th>9</th>\n",
       "      <td>@mileycyrus dude, I have to go on a 4 mile run...</td>\n",
       "      <td>1468764264</td>\n",
       "      <td>Tue Apr 07 03:36:33 PDT 2009</td>\n",
       "      <td>103</td>\n",
       "    </tr>\n",
       "  </tbody>\n",
       "</table>\n",
       "</div>"
      ],
      "text/plain": [
       "                                             Content          ID  \\\n",
       "0  @mileycyrus hahaha dont be like that one time ...  1468063101   \n",
       "1  @mileycyrus i have the same problem, but it's ...  1468286517   \n",
       "2  @mileycyrus I guess counting sheep didn't work...  1468297110   \n",
       "3  @mileycyrus I would too if it meant spending a...  1468298918   \n",
       "4  @mileycyrus AWWW u seriously have the cutest d...  1468318249   \n",
       "5  @mileycyrus http://twitpic.com/2xszg - Napping...  1468333186   \n",
       "6  @mileycyrus where did you find that quote... n...  1468340955   \n",
       "7  @mileycyrus http://twitpic.com/2y606 - I want ...  1468382935   \n",
       "8                         @mileycyrus ouch mine too   1468689241   \n",
       "9  @mileycyrus dude, I have to go on a 4 mile run...  1468764264   \n",
       "\n",
       "                      Timestamp Tweet Length  \n",
       "0  Mon Apr 06 23:30:57 PDT 2009          107  \n",
       "1  Tue Apr 07 00:45:20 PDT 2009          137  \n",
       "2  Tue Apr 07 00:49:07 PDT 2009           72  \n",
       "3  Tue Apr 07 00:49:44 PDT 2009          100  \n",
       "4  Tue Apr 07 00:56:41 PDT 2009          112  \n",
       "5  Tue Apr 07 01:01:52 PDT 2009          116  \n",
       "6  Tue Apr 07 01:04:40 PDT 2009          129  \n",
       "7  Tue Apr 07 01:19:59 PDT 2009           75  \n",
       "8  Tue Apr 07 03:10:51 PDT 2009           26  \n",
       "9  Tue Apr 07 03:36:33 PDT 2009          103  "
      ]
     },
     "metadata": {},
     "output_type": "display_data"
    },
    {
     "name": "stdout",
     "output_type": "stream",
     "text": [
      "Corpus Usuario: mileycyrus\n"
     ]
    },
    {
     "data": {
      "text/html": [
       "<div>\n",
       "<style scoped>\n",
       "    .dataframe tbody tr th:only-of-type {\n",
       "        vertical-align: middle;\n",
       "    }\n",
       "\n",
       "    .dataframe tbody tr th {\n",
       "        vertical-align: top;\n",
       "    }\n",
       "\n",
       "    .dataframe thead th {\n",
       "        text-align: right;\n",
       "    }\n",
       "</style>\n",
       "<table border=\"1\" class=\"dataframe\">\n",
       "  <thead>\n",
       "    <tr style=\"text-align: right;\">\n",
       "      <th></th>\n",
       "      <th>Content</th>\n",
       "      <th>ID</th>\n",
       "      <th>Timestamp</th>\n",
       "      <th>Tweet Length</th>\n",
       "    </tr>\n",
       "  </thead>\n",
       "  <tbody>\n",
       "    <tr>\n",
       "      <th>0</th>\n",
       "      <td>@tommcfly hey saw u guys play @ pushover..didn...</td>\n",
       "      <td>1468210813</td>\n",
       "      <td>Tue Apr 07 00:19:09 PDT 2009</td>\n",
       "      <td>138</td>\n",
       "    </tr>\n",
       "    <tr>\n",
       "      <th>1</th>\n",
       "      <td>@tommcfly Good morning Tom! Why can't I send y...</td>\n",
       "      <td>1468233211</td>\n",
       "      <td>Tue Apr 07 00:26:52 PDT 2009</td>\n",
       "      <td>131</td>\n",
       "    </tr>\n",
       "    <tr>\n",
       "      <th>2</th>\n",
       "      <td>@tommcfly did you know that johnsons baby use ...</td>\n",
       "      <td>1468391638</td>\n",
       "      <td>Tue Apr 07 01:23:07 PDT 2009</td>\n",
       "      <td>96</td>\n",
       "    </tr>\n",
       "    <tr>\n",
       "      <th>3</th>\n",
       "      <td>@dougiemcfly @tommcfly good morning guys, how ...</td>\n",
       "      <td>1468502040</td>\n",
       "      <td>Tue Apr 07 02:03:41 PDT 2009</td>\n",
       "      <td>108</td>\n",
       "    </tr>\n",
       "    <tr>\n",
       "      <th>4</th>\n",
       "      <td>@tommcfly hey, no chance of adding brighton or...</td>\n",
       "      <td>1468618787</td>\n",
       "      <td>Tue Apr 07 02:46:02 PDT 2009</td>\n",
       "      <td>131</td>\n",
       "    </tr>\n",
       "    <tr>\n",
       "      <th>5</th>\n",
       "      <td>@tommcfly have fun tom, i need to buy eclipse ...</td>\n",
       "      <td>1468674970</td>\n",
       "      <td>Tue Apr 07 03:05:49 PDT 2009</td>\n",
       "      <td>82</td>\n",
       "    </tr>\n",
       "    <tr>\n",
       "      <th>6</th>\n",
       "      <td>@tommcfly are you coming to play at Plymouth a...</td>\n",
       "      <td>1468945705</td>\n",
       "      <td>Tue Apr 07 04:31:47 PDT 2009</td>\n",
       "      <td>134</td>\n",
       "    </tr>\n",
       "    <tr>\n",
       "      <th>7</th>\n",
       "      <td>@tommcfly :O starbucks! never tehe oooh now i ...</td>\n",
       "      <td>1469438932</td>\n",
       "      <td>Tue Apr 07 06:23:07 PDT 2009</td>\n",
       "      <td>55</td>\n",
       "    </tr>\n",
       "    <tr>\n",
       "      <th>8</th>\n",
       "      <td>@tommcfly aw i want a starbucks</td>\n",
       "      <td>1469466152</td>\n",
       "      <td>Tue Apr 07 06:28:08 PDT 2009</td>\n",
       "      <td>32</td>\n",
       "    </tr>\n",
       "    <tr>\n",
       "      <th>9</th>\n",
       "      <td>@tommcfly i have to still read eclipse as well...</td>\n",
       "      <td>1470070258</td>\n",
       "      <td>Tue Apr 07 08:15:31 PDT 2009</td>\n",
       "      <td>136</td>\n",
       "    </tr>\n",
       "  </tbody>\n",
       "</table>\n",
       "</div>"
      ],
      "text/plain": [
       "                                             Content          ID  \\\n",
       "0  @tommcfly hey saw u guys play @ pushover..didn...  1468210813   \n",
       "1  @tommcfly Good morning Tom! Why can't I send y...  1468233211   \n",
       "2  @tommcfly did you know that johnsons baby use ...  1468391638   \n",
       "3  @dougiemcfly @tommcfly good morning guys, how ...  1468502040   \n",
       "4  @tommcfly hey, no chance of adding brighton or...  1468618787   \n",
       "5  @tommcfly have fun tom, i need to buy eclipse ...  1468674970   \n",
       "6  @tommcfly are you coming to play at Plymouth a...  1468945705   \n",
       "7  @tommcfly :O starbucks! never tehe oooh now i ...  1469438932   \n",
       "8                   @tommcfly aw i want a starbucks   1469466152   \n",
       "9  @tommcfly i have to still read eclipse as well...  1470070258   \n",
       "\n",
       "                      Timestamp Tweet Length  \n",
       "0  Tue Apr 07 00:19:09 PDT 2009          138  \n",
       "1  Tue Apr 07 00:26:52 PDT 2009          131  \n",
       "2  Tue Apr 07 01:23:07 PDT 2009           96  \n",
       "3  Tue Apr 07 02:03:41 PDT 2009          108  \n",
       "4  Tue Apr 07 02:46:02 PDT 2009          131  \n",
       "5  Tue Apr 07 03:05:49 PDT 2009           82  \n",
       "6  Tue Apr 07 04:31:47 PDT 2009          134  \n",
       "7  Tue Apr 07 06:23:07 PDT 2009           55  \n",
       "8  Tue Apr 07 06:28:08 PDT 2009           32  \n",
       "9  Tue Apr 07 08:15:31 PDT 2009          136  "
      ]
     },
     "metadata": {},
     "output_type": "display_data"
    },
    {
     "name": "stdout",
     "output_type": "stream",
     "text": [
      "Corpus Usuario: tommcfly\n"
     ]
    },
    {
     "data": {
      "text/html": [
       "<div>\n",
       "<style scoped>\n",
       "    .dataframe tbody tr th:only-of-type {\n",
       "        vertical-align: middle;\n",
       "    }\n",
       "\n",
       "    .dataframe tbody tr th {\n",
       "        vertical-align: top;\n",
       "    }\n",
       "\n",
       "    .dataframe thead th {\n",
       "        text-align: right;\n",
       "    }\n",
       "</style>\n",
       "<table border=\"1\" class=\"dataframe\">\n",
       "  <thead>\n",
       "    <tr style=\"text-align: right;\">\n",
       "      <th></th>\n",
       "      <th>Content</th>\n",
       "      <th>ID</th>\n",
       "      <th>Timestamp</th>\n",
       "      <th>Tweet Length</th>\n",
       "    </tr>\n",
       "  </thead>\n",
       "  <tbody>\n",
       "    <tr>\n",
       "      <th>0</th>\n",
       "      <td>@ddlovato @David_Henrie ummmmm i cant find it.</td>\n",
       "      <td>1467929230</td>\n",
       "      <td>Mon Apr 06 22:51:34 PDT 2009</td>\n",
       "      <td>47</td>\n",
       "    </tr>\n",
       "    <tr>\n",
       "      <th>1</th>\n",
       "      <td>@ddlovato Do you hate us?? Please don't</td>\n",
       "      <td>1467953367</td>\n",
       "      <td>Mon Apr 06 22:58:30 PDT 2009</td>\n",
       "      <td>40</td>\n",
       "    </tr>\n",
       "    <tr>\n",
       "      <th>2</th>\n",
       "      <td>@ddlovato Wish that i could see it..  Thats th...</td>\n",
       "      <td>1469661950</td>\n",
       "      <td>Tue Apr 07 07:02:58 PDT 2009</td>\n",
       "      <td>96</td>\n",
       "    </tr>\n",
       "    <tr>\n",
       "      <th>3</th>\n",
       "      <td>@ddlovato hey demi, wen are you and selena gon...</td>\n",
       "      <td>1469674492</td>\n",
       "      <td>Tue Apr 07 07:05:11 PDT 2009</td>\n",
       "      <td>79</td>\n",
       "    </tr>\n",
       "    <tr>\n",
       "      <th>4</th>\n",
       "      <td>@ddlovato ahhhh i wish i could go to the dalla...</td>\n",
       "      <td>1548280868</td>\n",
       "      <td>Fri Apr 17 20:31:31 PDT 2009</td>\n",
       "      <td>85</td>\n",
       "    </tr>\n",
       "    <tr>\n",
       "      <th>5</th>\n",
       "      <td>@ddlovato I just saw your tour dates and now I...</td>\n",
       "      <td>1548773731</td>\n",
       "      <td>Fri Apr 17 21:56:12 PDT 2009</td>\n",
       "      <td>116</td>\n",
       "    </tr>\n",
       "    <tr>\n",
       "      <th>6</th>\n",
       "      <td>@ddlovato sonny with a chance in the UK, only ...</td>\n",
       "      <td>1551831910</td>\n",
       "      <td>Sat Apr 18 10:05:14 PDT 2009</td>\n",
       "      <td>138</td>\n",
       "    </tr>\n",
       "    <tr>\n",
       "      <th>7</th>\n",
       "      <td>@ddlovato demii!! how is your stage going to b...</td>\n",
       "      <td>1552024212</td>\n",
       "      <td>Sat Apr 18 10:35:16 PDT 2009</td>\n",
       "      <td>121</td>\n",
       "    </tr>\n",
       "    <tr>\n",
       "      <th>8</th>\n",
       "      <td>@ddlovato hi demi, at which airport in Germany...</td>\n",
       "      <td>1553173354</td>\n",
       "      <td>Sat Apr 18 13:33:51 PDT 2009</td>\n",
       "      <td>138</td>\n",
       "    </tr>\n",
       "    <tr>\n",
       "      <th>9</th>\n",
       "      <td>@ddlovato awww. why. omg i really wana c ure n...</td>\n",
       "      <td>1553237653</td>\n",
       "      <td>Sat Apr 18 13:44:01 PDT 2009</td>\n",
       "      <td>77</td>\n",
       "    </tr>\n",
       "  </tbody>\n",
       "</table>\n",
       "</div>"
      ],
      "text/plain": [
       "                                             Content          ID  \\\n",
       "0    @ddlovato @David_Henrie ummmmm i cant find it.   1467929230   \n",
       "1           @ddlovato Do you hate us?? Please don't   1467953367   \n",
       "2  @ddlovato Wish that i could see it..  Thats th...  1469661950   \n",
       "3  @ddlovato hey demi, wen are you and selena gon...  1469674492   \n",
       "4  @ddlovato ahhhh i wish i could go to the dalla...  1548280868   \n",
       "5  @ddlovato I just saw your tour dates and now I...  1548773731   \n",
       "6  @ddlovato sonny with a chance in the UK, only ...  1551831910   \n",
       "7  @ddlovato demii!! how is your stage going to b...  1552024212   \n",
       "8  @ddlovato hi demi, at which airport in Germany...  1553173354   \n",
       "9  @ddlovato awww. why. omg i really wana c ure n...  1553237653   \n",
       "\n",
       "                      Timestamp Tweet Length  \n",
       "0  Mon Apr 06 22:51:34 PDT 2009           47  \n",
       "1  Mon Apr 06 22:58:30 PDT 2009           40  \n",
       "2  Tue Apr 07 07:02:58 PDT 2009           96  \n",
       "3  Tue Apr 07 07:05:11 PDT 2009           79  \n",
       "4  Fri Apr 17 20:31:31 PDT 2009           85  \n",
       "5  Fri Apr 17 21:56:12 PDT 2009          116  \n",
       "6  Sat Apr 18 10:05:14 PDT 2009          138  \n",
       "7  Sat Apr 18 10:35:16 PDT 2009          121  \n",
       "8  Sat Apr 18 13:33:51 PDT 2009          138  \n",
       "9  Sat Apr 18 13:44:01 PDT 2009           77  "
      ]
     },
     "metadata": {},
     "output_type": "display_data"
    },
    {
     "name": "stdout",
     "output_type": "stream",
     "text": [
      "Corpus Usuario: ddlovato\n"
     ]
    }
   ],
   "source": [
    "corpus_columns = [\"Content\",\"ID\",\"Timestamp\",\"Tweet Length\"]\n",
    "users_corpus = {}\n",
    "\n",
    "for user in popular_users_df[\"Usuario\"]:\n",
    "    users_corpus[user] = pd.DataFrame(columns=corpus_columns)\n",
    "    \n",
    "for index,row in tw_df.iterrows():\n",
    "    for user in popular_users_df[\"Usuario\"]:\n",
    "        match = re.search(\"@\"+user,row[\"tweet\"])\n",
    "        if match:\n",
    "            tweet_id = str(row[\"id\"])\n",
    "            if not re.match(\"\\d+\",tweet_id):\n",
    "                tweet_id = \"Undefined\"\n",
    "            users_corpus[user] = users_corpus[user].append({\"Content\":row[\"tweet\"], \"ID\":tweet_id,\"Timestamp\":row[\"datetime\"], \"Tweet Length\":len(row[\"tweet\"])},ignore_index=True)\n",
    "            \n",
    "for user in popular_users_df[\"Usuario\"]:\n",
    "    display(users_corpus[user].head(10))\n",
    "    print(\"Corpus Usuario: \"+user)"
   ]
  },
  {
   "cell_type": "markdown",
   "metadata": {},
   "source": [
    "### Extracción de Contexto\n",
    "Se procede a crear un bag of words por cada usuaro."
   ]
  },
  {
   "cell_type": "code",
   "execution_count": 6,
   "metadata": {},
   "outputs": [],
   "source": [
    "def normalization(corpus):\n",
    "    newCorpus = []\n",
    "    for doc in corpus:\n",
    "        newCorpus.append(re.sub(r'[^a-zA-Z0-9\\s{1}áéíóúüñÁÉÍÓÚ]', '', doc).lower().strip().rstrip('\\n').rstrip('\\r\\n'))\n",
    "    return newCorpus\n",
    "\n",
    "def tokenization(corpus):\n",
    "    newCorpus = []\n",
    "    for doc in corpus:\n",
    "        newCorpus.append(nlp(doc))\n",
    "    return newCorpus\n",
    "\n",
    "def remove_stopwords(corpus):\n",
    "    newCorpus = []\n",
    "    for doc in corpus:\n",
    "        s = \"\"\n",
    "        for token in doc:\n",
    "            if(token.is_stop == False):\n",
    "                s = s + token.text + \" \"\n",
    "        newCorpus.append(s.strip())\n",
    "    return newCorpus   \n",
    "\n",
    "def stemming_and_lemmanting(corpus):\n",
    "    documents = tokenization(corpus)\n",
    "    newCorpus = []\n",
    "    for doc in documents:\n",
    "        s = \"\"\n",
    "        for token in doc:\n",
    "            s = s + token.lemma_ + \" \"\n",
    "        newCorpus.append(s.strip())\n",
    "    return newCorpus\n",
    "\n",
    "def remove_user_mention(corpus, user):\n",
    "    newCorpus = []\n",
    "    for doc in corpus:\n",
    "        newCorpus.append(doc.replace(user,\"\"))\n",
    "    return newCorpus"
   ]
  },
  {
   "cell_type": "code",
   "execution_count": 7,
   "metadata": {},
   "outputs": [],
   "source": [
    "bags_of_words = {}\n",
    "nlp = spacy.load(\"en_core_web_sm\")\n",
    "nlp.Defaults.stop_words.add(\"nt\") #Se agrega stop words porque se tokeniza dont i cant como do nt\n",
    "\n",
    "for user in popular_users_df[\"Usuario\"]:\n",
    "    corpus = normalization(users_corpus[user]['Content'])\n",
    "    corpus = tokenization(corpus)\n",
    "    corpus = remove_stopwords(corpus)\n",
    "    corpus = stemming_and_lemmanting(corpus)\n",
    "    \n",
    "    corpus = remove_user_mention(corpus,user)\n",
    "    bags_of_words[user] = corpus"
   ]
  },
  {
   "cell_type": "markdown",
   "metadata": {},
   "source": [
    "### Cálculo de IDF\n",
    "Se procederá a crear una matriz de TF y a calcular su IDF para obtener las 20 palabras más relevantes de cada usuario."
   ]
  },
  {
   "cell_type": "code",
   "execution_count": 8,
   "metadata": {},
   "outputs": [],
   "source": [
    "def generateEmptyTF(cols, rows):\n",
    "    outDf = pd.DataFrame(index=rows, columns=cols)\n",
    "    outDf = outDf.fillna(0)\n",
    "    return outDf\n",
    "\n",
    "def calculoTF(corpus, df):\n",
    "    corpus = tokenization(corpus)\n",
    "    for index, doc in enumerate(corpus):\n",
    "        docLen = len(doc)\n",
    "        for word in doc:\n",
    "            try:\n",
    "                colIndex = list(df.columns).index(word.text)\n",
    "                df.iloc[index, colIndex] =  df.iloc[index, colIndex] + 1\n",
    "            except:\n",
    "                pass\n",
    "        df.iloc[index, :] = df.iloc[index, :] / docLen\n",
    "    return df   \n",
    "\n",
    "def calculoIDF(df):\n",
    "    N = df.shape[0]\n",
    "    valX = (N/df.astype(bool).sum(axis=0))\n",
    "    idfValues = pd.Series(np.log(valX))\n",
    "    return idfValues  "
   ]
  },
  {
   "cell_type": "code",
   "execution_count": 12,
   "metadata": {},
   "outputs": [
    {
     "name": "stdout",
     "output_type": "stream",
     "text": [
      "IDF tweets usuario: mileycyrus\n"
     ]
    },
    {
     "data": {
      "text/plain": [
       "love       1.665771\n",
       "miley      1.699308\n",
       "nt         1.740333\n",
       "m          2.065950\n",
       "good       2.179349\n",
       "u          2.199231\n",
       "vote       2.408416\n",
       "come       2.601688\n",
       "s          2.673258\n",
       "hope       2.682983\n",
       "like       2.833882\n",
       "win        2.853003\n",
       "award      2.916769\n",
       "movie      2.954510\n",
       "want       2.993730\n",
       "fan        3.057973\n",
       "amazing    3.062723\n",
       "know       3.067496\n",
       "hey        3.081955\n",
       "song       3.116526\n",
       "dtype: float64"
      ]
     },
     "metadata": {},
     "output_type": "display_data"
    },
    {
     "name": "stdout",
     "output_type": "stream",
     "text": [
      "IDF tweets usuario: tommcfly\n"
     ]
    },
    {
     "data": {
      "text/plain": [
       "nt        1.655529\n",
       "tom       1.725292\n",
       "love      2.164559\n",
       "m         2.182659\n",
       "come      2.370475\n",
       "good      2.438878\n",
       "xx        2.496557\n",
       "u         2.637257\n",
       "guy       2.651750\n",
       "haha      2.666456\n",
       "like      2.700358\n",
       "x         2.704197\n",
       "reply     2.780081\n",
       "brazil    2.809557\n",
       "fan       2.818141\n",
       "miss      2.908292\n",
       "think     2.937002\n",
       "s         2.937002\n",
       "know      3.007383\n",
       "hope      3.033770\n",
       "dtype: float64"
      ]
     },
     "metadata": {},
     "output_type": "display_data"
    },
    {
     "name": "stdout",
     "output_type": "stream",
     "text": [
      "IDF tweets usuario: ddlovato\n"
     ]
    },
    {
     "data": {
      "text/plain": [
       "nt         1.582543\n",
       "love       1.774407\n",
       "demi       1.807084\n",
       "m          1.976207\n",
       "come       2.292592\n",
       "u          2.345082\n",
       "s          2.546752\n",
       "wish       2.607147\n",
       "good       2.611046\n",
       "wait       2.696638\n",
       "hope       2.709486\n",
       "like       2.718144\n",
       "amazing    2.883224\n",
       "haha       2.903950\n",
       "want       2.963266\n",
       "know       3.038230\n",
       "awesome    3.081050\n",
       "ur         3.106367\n",
       "reply      3.119271\n",
       "day        3.152277\n",
       "dtype: float64"
      ]
     },
     "metadata": {},
     "output_type": "display_data"
    }
   ],
   "source": [
    "idf_users = {}\n",
    "\n",
    "for user in popular_users_df[\"Usuario\"]:\n",
    "    tf_headers =  \" \".join(bags_of_words[user])\n",
    "    tf_headers = set(re.split(\"\\s+\",tf_headers.strip()))\n",
    "    tf_corpus = generateEmptyTF(list(tf_headers), range(0,len(bags_of_words[user])))\n",
    "    tf_matrix = calculoTF(bags_of_words[user], tf_corpus)\n",
    "    idf = calculoIDF(tf_matrix).sort_values(ascending=True)\n",
    "    idf_users[user] = idf\n",
    "    print(\"IDF tweets usuario: \"+user)\n",
    "    display(idf.head(20))"
   ]
  },
  {
   "cell_type": "markdown",
   "metadata": {},
   "source": [
    "### Razón por la que citan al usuario\n",
    "Basado en la frecuencia inversa de término, podemos decir que los usuarios hacen las menciones por las siguientes razones.\n",
    "\n",
    "#### Usuario mileycyrus\n",
    "Los usuarios demuestran su apreciación hacia la estrella Miley Cyrus y han votado por ella en alguna entrega de premios.\n",
    "\n",
    "#### Usuario tommcfly\n",
    "Los fans extrañan por alguna razón a tommcfly y demuestran su aprecio por el.\n",
    "\n",
    "#### Usuario ddlovato\n",
    "Al igual que los otros 2 casos, los fans brindan muestras de afecto y admiración hacia Demi Lovato.\n",
    "\n",
    "Es interesante que en los 3 IDF podemos ver que la palabra **love** y en 2 de ellos la palabra **amazing** y **awesome** por lo que podríamos decir que los tweets representan pensamientos positivos hacia los usuarios."
   ]
  },
  {
   "cell_type": "markdown",
   "metadata": {},
   "source": [
    "### Word Clouds"
   ]
  },
  {
   "cell_type": "code",
   "execution_count": 11,
   "metadata": {
    "scrolled": false
   },
   "outputs": [
    {
     "name": "stdout",
     "output_type": "stream",
     "text": [
      "Word Cloud usuario mileycyrus\n"
     ]
    },
    {
     "data": {
      "image/png": "[encoded data removed]",
      "text/plain": [
       "<Figure size 576x576 with 1 Axes>"
      ]
     },
     "metadata": {
      "needs_background": "light"
     },
     "output_type": "display_data"
    },
    {
     "name": "stdout",
     "output_type": "stream",
     "text": [
      "Word Cloud usuario tommcfly\n"
     ]
    },
    {
     "data": {
      "image/png": "[encoded data removed]",
      "text/plain": [
       "<Figure size 576x576 with 1 Axes>"
      ]
     },
     "metadata": {
      "needs_background": "light"
     },
     "output_type": "display_data"
    },
    {
     "name": "stdout",
     "output_type": "stream",
     "text": [
      "Word Cloud usuario ddlovato\n"
     ]
    },
    {
     "data": {
      "image/png": "[encoded data removed]",
      "text/plain": [
       "<Figure size 576x576 with 1 Axes>"
      ]
     },
     "metadata": {
      "needs_background": "light"
     },
     "output_type": "display_data"
    }
   ],
   "source": [
    "\n",
    "for user in popular_users_df[\"Usuario\"]:\n",
    "    print(\"Word Cloud usuario \"+user)\n",
    "    wordcloud = WordCloud(width = 200, height = 200,\n",
    "                    background_color ='black',\n",
    "                    min_font_size = 10).generate(\" \".join(bags_of_words[user]))\n",
    "\n",
    "    # plot the WordCloud image                      \n",
    "    plt.figure(figsize = (8, 8), facecolor = None)\n",
    "    plt.imshow(wordcloud)\n",
    "    plt.axis(\"off\")\n",
    "    plt.tight_layout(pad = 0)\n",
    "\n",
    "    plt.show()"
   ]
  }
 ],
 "metadata": {
  "kernelspec": {
   "display_name": "Python 3",
   "language": "python",
   "name": "python3"
  },
  "language_info": {
   "codemirror_mode": {
    "name": "ipython",
    "version": 3
   },
   "file_extension": ".py",
   "mimetype": "text/x-python",
   "name": "python",
   "nbconvert_exporter": "python",
   "pygments_lexer": "ipython3",
   "version": "3.7.6"
  }
 },
 "nbformat": 4,
 "nbformat_minor": 4
}

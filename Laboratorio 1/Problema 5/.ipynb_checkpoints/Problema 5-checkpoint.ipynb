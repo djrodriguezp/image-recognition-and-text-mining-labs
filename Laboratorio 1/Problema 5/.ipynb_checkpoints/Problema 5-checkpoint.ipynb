{
 "cells": [
  {
   "cell_type": "markdown",
   "metadata": {},
   "source": [
    "# Problema 5"
   ]
  },
  {
   "cell_type": "markdown",
   "metadata": {},
   "source": [
    "Investigue en que consiste el enfoque de escala de grises ponderado, luego de esto implemente una función que dada una imagen."
   ]
  },
  {
   "cell_type": "code",
   "execution_count": 5,
   "metadata": {},
   "outputs": [],
   "source": [
    "import cv2\n",
    "import numpy as np\n",
    "import matplotlib.pyplot as plt"
   ]
  },
  {
   "cell_type": "code",
   "execution_count": 8,
   "metadata": {},
   "outputs": [],
   "source": [
    "def convert_grayscale(input_image):\n",
    "    width = input_image.shape[0]\n",
    "    height = input_image.shape[1]\n",
    "    output_photo = np.zeros((width, height, 1))\n",
    "\n",
    "    for j in range(0,width):\n",
    "        for i in range(0,height):\n",
    "            pixel = input_image[j,i]\n",
    "            output_photo[j,i] = 0.114*pixel[0] + 0.587*pixel[1] + 0.299*pixel[2]\n",
    "\n",
    "    return output_photo"
   ]
  },
  {
   "cell_type": "markdown",
   "metadata": {},
   "source": [
    "## Imagen original"
   ]
  },
  {
   "cell_type": "code",
   "execution_count": 11,
   "metadata": {},
   "outputs": [
    {
     "data": {
      "text/plain": [
       "<matplotlib.image.AxesImage at 0x1d0cdc56fd0>"
      ]
     },
     "execution_count": 11,
     "metadata": {},
     "output_type": "execute_result"
    },
    {
     "data": {
      "image/png": "[encoded data removed]",
      "text/plain": [
       "<Figure size 432x288 with 1 Axes>"
      ]
     },
     "metadata": {
      "needs_background": "light"
     },
     "output_type": "display_data"
    }
   ],
   "source": [
    "input_image = cv2.imread(\"./images/input.jpg\", cv2.IMREAD_COLOR)\n",
    "rgb_input_image = cv2.cvtColor(input_image, cv2.COLOR_BGR2RGB)\n",
    "plt.imshow(rgb_input_image)"
   ]
  },
  {
   "cell_type": "markdown",
   "metadata": {},
   "source": [
    "## Imagen en escala de grises"
   ]
  },
  {
   "cell_type": "code",
   "execution_count": 12,
   "metadata": {},
   "outputs": [
    {
     "data": {
      "text/plain": [
       "<matplotlib.image.AxesImage at 0x1d0cec86370>"
      ]
     },
     "execution_count": 12,
     "metadata": {},
     "output_type": "execute_result"
    },
    {
     "data": {
      "image/png": "[encoded data removed]",
      "text/plain": [
       "<Figure size 432x288 with 1 Axes>"
      ]
     },
     "metadata": {
      "needs_background": "light"
     },
     "output_type": "display_data"
    }
   ],
   "source": [
    "cv2.imwrite(\"./images/output.jpg\", convert_grayscale(input_image) )\n",
    "output_image = cv2.imread(\"./images/output.jpg\", cv2.IMREAD_COLOR)\n",
    "rgb_output_image = cv2.cvtColor(output_image, cv2.COLOR_BGR2RGB)\n",
    "plt.imshow(rgb_output_image)"
   ]
  }
 ],
 "metadata": {
  "kernelspec": {
   "display_name": "Python 3",
   "language": "python",
   "name": "python3"
  },
  "language_info": {
   "codemirror_mode": {
    "name": "ipython",
    "version": 3
   },
   "file_extension": ".py",
   "mimetype": "text/x-python",
   "name": "python",
   "nbconvert_exporter": "python",
   "pygments_lexer": "ipython3",
   "version": "3.8.1"
  }
 },
 "nbformat": 4,
 "nbformat_minor": 4
}

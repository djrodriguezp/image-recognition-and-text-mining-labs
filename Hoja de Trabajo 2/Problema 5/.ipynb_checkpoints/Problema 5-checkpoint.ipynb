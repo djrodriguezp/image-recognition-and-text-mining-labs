{
 "cells": [
  {
   "cell_type": "markdown",
   "metadata": {},
   "source": [
    "# Problema 5\n",
    "Desarrolle una función que dada una imagen a color y kernel de cualquier dimensión (3X3, 5X5, 7X7, 9X9, 11X11) y cualquier tipo (gaussiano, Sobel, Sharp, unsharp, laplaciano), aplique un filtro de convolución a dicha imagen y muestre la imagen original y la imagen filtrada. Le recomendamos implementar el kernel como un arreglo de numpy."
   ]
  },
  {
   "cell_type": "code",
   "execution_count": 2,
   "metadata": {},
   "outputs": [],
   "source": [
    "import cv2\n",
    "import numpy as np\n",
    "import matplotlib.pyplot as plt"
   ]
  },
  {
   "cell_type": "markdown",
   "metadata": {},
   "source": [
    "Se define una función para aplicar un kernel a una imagen de entrada."
   ]
  },
  {
   "cell_type": "code",
   "execution_count": 1,
   "metadata": {},
   "outputs": [],
   "source": [
    "def apply_filter(input_image, kernel):\n",
    "    blue = 0\n",
    "    green = 1\n",
    "    red = 2\n",
    "\n",
    "    height = input_image.shape[0]\n",
    "    width  = input_image.shape[1]\n",
    "\n",
    "    kernel_height = kernel.shape[0]\n",
    "    kernel_width  = kernel.shape[1]\n",
    "    kernel_center = kernel_width/2\n",
    "\n",
    "    output_image =  np.zeros((height, width, 3))\n",
    "\n",
    "    for j in range(0,height):\n",
    "        for i in range(0, width):\n",
    "            new_pixel = np.array([0, 0, 0])\n",
    "            for m in range(0, kernel_height):\n",
    "                for n in range(0, kernel_width):\n",
    "                    row_offset = j + (m - kernel_center)\n",
    "                    col_offset = i + (n - kernel_center)\n",
    "                    if row_offset < 0 or row_offset >= height  :\n",
    "                        continue\n",
    "                    \n",
    "                    if col_offset < 0 or col_offset >= width :\n",
    "                        continue\n",
    "\n",
    "                    new_pixel[blue]  += (kernel[m, n] * int(input_image[row_offset, col_offset][blue]))\n",
    "                    new_pixel[green] += (kernel[m, n] * int(input_image[row_offset, col_offset][green]))\n",
    "                    new_pixel[red]   += (kernel[m, n] * int(input_image[row_offset, col_offset][red]))\n",
    "\n",
    "            output_image[j,i][blue] = new_pixel[blue]\n",
    "            output_image[j,i][green]  = new_pixel[green]\n",
    "            output_image[j,i][red] = new_pixel[red]"
   ]
  }
 ],
 "metadata": {
  "kernelspec": {
   "display_name": "Python 3",
   "language": "python",
   "name": "python3"
  },
  "language_info": {
   "codemirror_mode": {
    "name": "ipython",
    "version": 3
   },
   "file_extension": ".py",
   "mimetype": "text/x-python",
   "name": "python",
   "nbconvert_exporter": "python",
   "pygments_lexer": "ipython3",
   "version": "3.8.1"
  }
 },
 "nbformat": 4,
 "nbformat_minor": 4
}

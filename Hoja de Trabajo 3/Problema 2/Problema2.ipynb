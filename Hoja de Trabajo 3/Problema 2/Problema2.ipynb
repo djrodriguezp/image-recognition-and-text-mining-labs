{
 "cells": [
  {
   "cell_type": "markdown",
   "metadata": {},
   "source": [
    "# ¿Qué es NLP (Procesamiento de Lenguaje Natural)?\n",
    "\n",
    "El Procesamiento de Lenguaje Natural es una rama de la inteligencia artificial que estudia la interacción entre el lenguaje humano y las máquinas. \n",
    "\n",
    "Esta rama tiene como objetivo recolectar, parsear y dar sentido a la información por medio de análisis semánticos, y ser utilizado para identificar temas de interés en un texto,  generar resúmenes, identificación de emociones, traducir idiomas, clasificación de textos, asistentes de voz, speech-to-text, entre muchas otras aplicaciones.\n",
    "\n",
    "## Técnicas de NLP\n",
    "Existen varias técnicas para el procesamiento de lenguaje natural, a continuación se mencionan algunas de ellas:\n",
    "\n",
    "- **Tokenización:** Técnica que permite dividir el texto en unidades llamadas tokens la cual nos ayuda a la limpieza de datos ya que podemos remover tokens que no nos sirvan como signos de puntuación.\n",
    "\n",
    "\n",
    "- **Lematización:** Técnica que nos permite reducir la cantidad de palabras diferentes que tienen el mismo significado, esto se logra buscando el lema de una palabra flexionada, es decir, quitando conjugaciones, plural o género de una palabra.\n",
    "\n",
    "\n",
    "- **Eliminar stopwords:** Las stopwords son palabras que carecen de valor por sí solas, como los artículos, pronombres y preposiciones. Estas son filtradas previo a realizar NLP.\n",
    "\n",
    "\n",
    "- **Bag of words:**  Es una técnica utilizada para representar la cantidad de veces que aparece un token en una oración.\n",
    "\n",
    "\n",
    "- **Word2vec:** Técnica que se basa en leer grandes cantidades de textos e identificar cuáles palabras son similares en diferentes contextos. El objetivo final de esta técnica es generar vectores de 3 dimensiones que permitan agrupar palabras que tengan relación entre sí.\n"
   ]
  }
 ],
 "metadata": {
  "kernelspec": {
   "display_name": "Python 3",
   "language": "python",
   "name": "python3"
  },
  "language_info": {
   "codemirror_mode": {
    "name": "ipython",
    "version": 3
   },
   "file_extension": ".py",
   "mimetype": "text/x-python",
   "name": "python",
   "nbconvert_exporter": "python",
   "pygments_lexer": "ipython3",
   "version": "3.7.6"
  }
 },
 "nbformat": 4,
 "nbformat_minor": 4
}

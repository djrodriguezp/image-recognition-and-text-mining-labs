{
 "cells": [
  {
   "cell_type": "markdown",
   "metadata": {},
   "source": [
    "# Problema 1\n",
    "\n",
    "Utilice expresiones regulares para validar las siguintes situaciones:\n",
    "\n",
    "1. Implemente una regex para validar un correo electrónico en general, a continuación se muestran algunos ejemplos.\n",
    " - Guate.360-porelmundo@miguate.com\n",
    " - Miercoles3@hotmail.com\n",
    " - Progra3.galileo@galileo.edu\n",
    "\n",
    "### Respuesta: \n",
    "### \\\\w[^@]+@[\\\\w-]+\\\\.\\\\w+\n",
    "\n",
    "---\n",
    "\n",
    "2. implemente una regex para validar la dirección url de una página web con los tipos de domino (.com, .org, .edu). Note que la url incluye el protocolo (http o https) y los símbolos (//www.), a continuación se muestran algunos ejemplos:\n",
    " - https://www.guate360-porelmundo.com\n",
    " - http://www.a2.net\n",
    " - https://www.galileo.edu\n",
    " - http://www.8.org (No válida)\n",
    "\n",
    "### Respuesta: \n",
    "### https?:\\\\/\\\\/www\\\\..*\\\\.(com|org|edu)\n",
    "\n",
    "---\n",
    "\n",
    "3. Implemente una regex para validar una MAC Address, notar que las mac addres están divididas en 6 bloques de caracteres hexadecimales, es decir que los símbolos solo pueden variar del 0 al 9 y las letras de la A a la F. a continuación se muestran algunos ejemplos:\n",
    " - 5A 6F AF 8C 9B 1D\n",
    " - 6D 6C 4D 3A EB 3F\n",
    " - 3A 7C FA C8 6D 4J (no válida por que el último bloque contiene una J)\n",
    "\n",
    "### Resputesta: \n",
    "### ([A-Fa-f0-9]{2}\\\\s?){6}\n",
    "\n",
    "---\n",
    "\n",
    "4. Implemente una regex para validar una direcci´on IPv4, notar que las direcciones IPv4 están divididas en 4 bloques de valores los cuales solo pueden ir desde 0 hasta 255, una ip donde algunos de sus bloques sea mayor a 255 no es valida, adem´as tome en cuenta que cada bloque está separada por un punto. A continuaci´on se muestran algunos ejemplos:\n",
    " - 192.16.8.1\n",
    " - 234.56.78.90\n",
    " - 1.2.3.4\n",
    " - 192.168.45.345 (no valida por que el ultimo bloque es mayor a 255)\n",
    "\n",
    "### Respuesta: \n",
    "### \\\\b((1[0-9]{2}|2[0-4][0-9]|25[0-5]|[1-9]?[0-9])\\\\.){3}(1[0-9]{2}|2[0-4][0-9]|25[0-5]|[1-9]?[0-9])\\\\b\n",
    "\n",
    "---\n",
    "\n",
    "5. Implemente una regex para validar una fecha con la secuencia día-mes-año donde el día, mes y año puedan estar separados ya sea por el caracter / o el caracter - o el caracter ., notar que las fechas son validas si los si los días están definidos desde el 1 al 31, el mes del 1 al 12 y el año de 2000 al 2019. También debe tomar en cuenta que los días y meses pueden estar escritos ya sea con uno o dos caracteres por ejemplo: Enero puede escribirse como 1 o como 01. Los años también pueden expresarse ya sea con dos o con cuatro caracteres por ejemplo: 19 o 2019 son válidos. A continuación se muestran algunos ejemplos:\n",
    " - 20/1/2019\n",
    " - 12.03.2005\n",
    " - 31-11-08\n",
    " - 1-1-2012\n",
    " - 12-12-22 (no valida, por que el a~no supera al 2019).\n",
    " \n",
    "### Respuesta: \n",
    "### ([12][0-9]|3[01]|0?[1-9])[/\\\\.-]\\(1[012]|0?[1-9])[/\\\\.-]\\(20[01][0-9]|[01][0-9])\n"
   ]
  }
 ],
 "metadata": {
  "kernelspec": {
   "display_name": "Python 3",
   "language": "python",
   "name": "python3"
  },
  "language_info": {
   "codemirror_mode": {
    "name": "ipython",
    "version": 3
   },
   "file_extension": ".py",
   "mimetype": "text/x-python",
   "name": "python",
   "nbconvert_exporter": "python",
   "pygments_lexer": "ipython3",
   "version": "3.7.6"
  }
 },
 "nbformat": 4,
 "nbformat_minor": 4
}
